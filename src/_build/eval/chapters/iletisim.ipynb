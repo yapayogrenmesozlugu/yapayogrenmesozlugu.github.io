{
 "cells": [
  {
   "cell_type": "markdown",
   "metadata": {},
   "source": [
    "# İletişim\n",
    "\n",
    "Yapay Öğrenme Sözlüğü ile ilgili görüş ve katkılarınızı   \n",
    "![](../figures/eposta.jpg)  \n",
    "adresi üzerinden e-posta ile iletebilirsiniz. Aynı zamanda <a href=\"https://github.com/yapayogrenmesozlugu\" target=\"_blank\">https://github.com/yapayogrenmesozlugu</a> hesabı üzerinden istek göndererek açık kaynak sözlüğe doğrudan katkıda da bulunabilirsiniz."
   ]
  }
 ],
 "metadata": {
  "language_info": {
   "name": "python"
  }
 },
 "nbformat": 4,
 "nbformat_minor": 4
}