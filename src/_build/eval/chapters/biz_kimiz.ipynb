{
 "cells": [
  {
   "cell_type": "markdown",
   "id": "2bba073f",
   "metadata": {},
   "source": [
    "# Biz Kimiz?\n",
    "\n",
    "*Bu sözlük Goodfellow, Bengio ve Courville tarafından yazılan “Deep Learning, MIT Press, 2016” kitabının “Derin Öğrenme, Buzbağı, 2018” çevirisini yaparken hazırlanmıştır. Bizi tercih ederek bu sözlüğün hazırlanmasına vesile olan Buzdağı Yayınevi’ne teşekkür ederiz.*\n",
    "\n",
    "*Son olarak, sözlükteki birçok terimin belirlenmesinde bizlerden değerli görüşlerini esirgemeyen ODTÜ Bilgisayar Mühendisliği öğretim üyelerine sevgi ve şükranlarımızı sunarız. Mevcut haliyle sözlüğümüzün oldukça kısıtlı olduğunun bilincindeyiz. Hazırladığımız bu sayfada katkı ve önerilerinizi bekler, sözlüğümüzün tüm paydaşlarımıza yararlı olmasını dileriz.*\n",
    "\n",
    "Hüseyin Aydın, Ramazan Gökberk Cinbiş, Yarkın Deniz Çetin, Berkan Demirel, Sinan Kalkan, Hazal Moğultay, Mert Bülent Sarıyıldız, Gencer Sümbül, Fatoş T. Yarman Vural"
   ]
  }
 ],
 "metadata": {
  "language_info": {
   "name": "python"
  }
 },
 "nbformat": 4,
 "nbformat_minor": 5
}