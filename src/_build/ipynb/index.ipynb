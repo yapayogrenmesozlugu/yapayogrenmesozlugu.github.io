{
 "cells": [
  {
   "cell_type": "markdown",
   "id": "f472d2fe",
   "metadata": {},
   "source": [
    "# Yapay Öğrenme Sözlüğü\n",
    "\n",
    "![](figures/kapak.jpg){.width500}\n",
    "\n",
    "*Hepimizin bildiği gibi, Yapay Öğrenme yöntemleri bilim ve teknolojinin birçok alanında araştırmalarımıza yön vermektedir. Bu yöntemler, algoritmalar içinde saklı kalmayıp, yaşamımızın birçok kesitine yeni kavramlar getirmekte ve teknolojiyi şekillendirmektedir.*\n",
    "\n",
    "*Yapay Öğrenme yöntemlerini geliştirmek ve toplum yararına kullanabilmek için, bu alandaki terimlerin dilimize aktarılmasının önemli olduğunu düşünüyoruz. Bu heyecanla ve aylar süren yoğun çalışmalar sonucu hazırladığımız Yapay Öğrenme Terimleri Sözlüğü’nü sizlerle paylaşıyoruz.*"
   ]
  },
  {
   "cell_type": "markdown",
   "id": "9e61c379",
   "metadata": {},
   "source": [
    ":begin_tab:toc\n",
    " - [chapters/sozluk.md](chapters/sozluk.md.ipynb)\n",
    " - [chapters/biz_kimiz.md](chapters/biz_kimiz.md.ipynb)\n",
    " - [chapters/iletisim.md](chapters/iletisim.md.ipynb)\n",
    ":end_tab:\n"
   ]
  }
 ],
 "metadata": {
  "language_info": {
   "name": "python"
  }
 },
 "nbformat": 4,
 "nbformat_minor": 5
}